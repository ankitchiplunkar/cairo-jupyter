{
 "cells": [
  {
   "cell_type": "markdown",
   "id": "fdc60609",
   "metadata": {},
   "source": [
    "# Array sum tutorial\n",
    "This is a tutorial in the to demonstrate the functioning of cairo and write a siple recursive function to sum arrays\n",
    "\n",
    "Cairo is not a high-level language. It’s a low-level language with some powerful syntactic sugar to allow writing maintainable code. The advantage is that the Cairo language allows you to write very efficient code "
   ]
  },
  {
   "cell_type": "markdown",
   "id": "30da1ac2",
   "metadata": {},
   "source": [
    "### The `array_sum` function"
   ]
  },
  {
   "cell_type": "code",
   "execution_count": 1,
   "id": "975865bd",
   "metadata": {},
   "outputs": [],
   "source": [
    "func array_sum(arr : felt*, size) -> (sum):\n",
    "    if size == 0:\n",
    "        return (sum=0)\n",
    "    end\n",
    "\n",
    "    # size is not zero.\n",
    "    let (sum_of_rest) = array_sum(arr=arr + 1, size=size - 1)\n",
    "    return (sum=[arr] + sum_of_rest)\n",
    "end"
   ]
  },
  {
   "cell_type": "markdown",
   "id": "e2bbe167",
   "metadata": {},
   "source": [
    "`func array_sum(arr : felt*, size) -> (sum)`: defines a function named array_sum which takes two arguments: arr and size. arr points to an array of size elements. The type of arr is `felt*` which is a pointer (for more information about felt, see below). The function declares that it returns one value called sum. The scope of the function ends with the word end (although end doesn’t mean that the function returns – you must add the return statement explicitly).\n",
    "\n",
    "You may have noticed that we’ve used recursion in the code above rather than the loop structure you may have expected. The main reason for this is that the Cairo memory is immutable – once you write the value of a memory cell, this cell cannot change in the future. Immutability of cairo is also why, **we cannot rerun the same function again in the kernel**, because cairo will throw a `Redefinition` error."
   ]
  },
  {
   "cell_type": "markdown",
   "id": "afbf49da",
   "metadata": {},
   "source": [
    "### Importing variables\n",
    "\n",
    "The line `from starkware.cairo.common.serialize import serialize_word` instructs the compiler to compile the file `starkware/cairo/common/serialize.cairo`, and to expose the identifier serialize_word."
   ]
  },
  {
   "cell_type": "code",
   "execution_count": 2,
   "id": "d1cb5ae5",
   "metadata": {},
   "outputs": [],
   "source": [
    "from starkware.cairo.common.serialize import serialize_word"
   ]
  },
  {
   "cell_type": "markdown",
   "id": "e53e1897",
   "metadata": {},
   "source": [
    "We use the standard library function alloc() to allocate a new memory segment. In practice the exact location of the allocated memory will be determined only when the program terminates, which allows us to avoid specifying the size of the allocation"
   ]
  },
  {
   "cell_type": "code",
   "execution_count": 3,
   "id": "2a2e595e",
   "metadata": {},
   "outputs": [],
   "source": [
    "from starkware.cairo.common.alloc import alloc"
   ]
  },
  {
   "cell_type": "markdown",
   "id": "6563d1b7",
   "metadata": {},
   "source": [
    "### The `main` function"
   ]
  },
  {
   "cell_type": "code",
   "execution_count": 4,
   "id": "7b39b494",
   "metadata": {},
   "outputs": [],
   "source": [
    "func main{output_ptr : felt*}():\n",
    "    const ARRAY_SIZE = 3\n",
    "\n",
    "    # Allocate an array.\n",
    "    let (ptr) = alloc()\n",
    "\n",
    "    # Populate some values in the array.\n",
    "    assert [ptr] = 9\n",
    "    assert [ptr + 1] = 16\n",
    "    assert [ptr + 2] = 25\n",
    "\n",
    "    # Call array_sum to compute the sum of the elements.\n",
    "    let (sum) = array_sum(arr=ptr, size=ARRAY_SIZE)\n",
    "\n",
    "    # Write the sum to the program output.\n",
    "    serialize_word(sum)\n",
    "\n",
    "    return ()\n",
    "end"
   ]
  },
  {
   "cell_type": "markdown",
   "id": "3cdb6ddb",
   "metadata": {},
   "source": [
    "Now, let’s write a `main()` function that will use `array_sum()`. To do this, we will need to allocate space for the array. The syntax `{output_ptr : felt*}` declares an “implicit argument”, which means that behind the scenes, it adds both a corresponding argument and return value. More information about implicit arguments can be found in [here](https://www.cairo-lang.org/docs/how_cairo_works/builtins.html#implicit-arguments).\n",
    "\n",
    "To write a to the output, we can use the library function `serialize_word(x)`. serialize_word gets one argument (the value we want to write) and one implicit argument output_ptr. It writes x to the memory cell pointed by output_ptr and returns output_ptr + 1. Now the implicit argument mechanism kicks in: in the first call to serialize_word() the Cairo compiler passes the value of output_ptr as the implicit argument. In the second call it uses the value returned by the first call."
   ]
  },
  {
   "cell_type": "markdown",
   "id": "dd8bbadf",
   "metadata": {},
   "source": [
    "### The `main` function\n",
    "\n",
    "Running the main function is as simple as caling `main()`"
   ]
  },
  {
   "cell_type": "code",
   "execution_count": 5,
   "id": "2ff7bd4c",
   "metadata": {},
   "outputs": [],
   "source": [
    "main()"
   ]
  },
  {
   "cell_type": "markdown",
   "id": "1bc2f368",
   "metadata": {},
   "source": [
    "To read the result of `main` function we print the value at second last location of `output_ptr`"
   ]
  },
  {
   "cell_type": "code",
   "execution_count": 6,
   "id": "e6f52caa",
   "metadata": {},
   "outputs": [
    {
     "name": "stdout",
     "output_type": "stream",
     "text": [
      "2:1"
     ]
    }
   ],
   "source": [
    "output_ptr"
   ]
  },
  {
   "cell_type": "code",
   "execution_count": 7,
   "id": "aae24575",
   "metadata": {},
   "outputs": [
    {
     "name": "stdout",
     "output_type": "stream",
     "text": [
      "50"
     ]
    }
   ],
   "source": [
    "[output_ptr-1]"
   ]
  }
 ],
 "metadata": {
  "kernelspec": {
   "display_name": "Cairo",
   "language": "text",
   "name": "cairo"
  },
  "language_info": {
   "file_extension": ".cairo",
   "mimetype": "text/plain",
   "name": "Cairo"
  }
 },
 "nbformat": 4,
 "nbformat_minor": 5
}
