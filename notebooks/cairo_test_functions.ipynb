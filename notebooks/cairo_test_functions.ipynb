{
 "cells": [
  {
   "cell_type": "code",
   "execution_count": 1,
   "id": "0718c460",
   "metadata": {
    "scrolled": false
   },
   "outputs": [],
   "source": [
    "%builtins output"
   ]
  },
  {
   "cell_type": "code",
   "execution_count": 2,
   "id": "40236556",
   "metadata": {
    "scrolled": true
   },
   "outputs": [],
   "source": [
    "func add1(x : felt) -> (x : felt): \n",
    "    return (x=x+1) \n",
    "    end"
   ]
  },
  {
   "cell_type": "code",
   "execution_count": 3,
   "id": "f9b17f12",
   "metadata": {},
   "outputs": [],
   "source": [
    "let (a) = add1(10)"
   ]
  },
  {
   "cell_type": "code",
   "execution_count": 4,
   "id": "a0886540",
   "metadata": {},
   "outputs": [
    {
     "name": "stdout",
     "output_type": "stream",
     "text": [
      "11"
     ]
    }
   ],
   "source": [
    "a"
   ]
  },
  {
   "cell_type": "code",
   "execution_count": 5,
   "id": "9219009c",
   "metadata": {},
   "outputs": [],
   "source": [
    "from starkware.cairo.common.serialize import serialize_word"
   ]
  },
  {
   "cell_type": "code",
   "execution_count": null,
   "id": "82db1a61",
   "metadata": {},
   "outputs": [
    {
     "name": "stdout",
     "output_type": "stream",
     "text": [
      "<input>:1:1: While trying to retrieve the implicit argument 'output_ptr' in:\n",
      "serialize_word(1234)\n",
      "^******************^\n",
      "/home/arie/cairo_venv/lib/python3.8/site-packages/starkware/cairo/common/serialize.cairo:2:21: Unknown identifier 'output_ptr'.\n",
      "func serialize_word{output_ptr : felt*}(word):\n",
      "                    ^****************^"
     ]
    }
   ],
   "source": [
    "serialize_word(1234)"
   ]
  },
  {
   "cell_type": "code",
   "execution_count": null,
   "id": "437ea328",
   "metadata": {},
   "outputs": [],
   "source": []
  }
 ],
 "metadata": {
  "kernelspec": {
   "display_name": "Cairo",
   "language": "text",
   "name": "cairo"
  },
  "language_info": {
   "file_extension": ".cairo",
   "mimetype": "text/plain",
   "name": "Cairo"
  }
 },
 "nbformat": 4,
 "nbformat_minor": 5
}
