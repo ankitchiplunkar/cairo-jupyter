{
 "cells": [
  {
   "cell_type": "code",
   "execution_count": 1,
   "id": "3e2ea0b0",
   "metadata": {},
   "outputs": [],
   "source": [
    "from starkware.cairo.common.alloc import alloc\n",
    "from starkware.cairo.common.serialize import serialize_word"
   ]
  },
  {
   "cell_type": "code",
   "execution_count": 2,
   "id": "9318d1cd",
   "metadata": {},
   "outputs": [
    {
     "name": "stdout",
     "output_type": "stream",
     "text": [
      "2:0"
     ]
    }
   ],
   "source": [
    "output_ptr"
   ]
  },
  {
   "cell_type": "code",
   "execution_count": null,
   "id": "020ef30c",
   "metadata": {},
   "outputs": [
    {
     "name": "stdout",
     "output_type": "stream",
     "text": [
      "<input>:1:1: Unknown value for memory cell at address 2:0.\n",
      "[output_ptr]\n",
      "^**********^"
     ]
    }
   ],
   "source": [
    "[output_ptr]"
   ]
  },
  {
   "cell_type": "code",
   "execution_count": 4,
   "id": "af269190",
   "metadata": {},
   "outputs": [],
   "source": [
    "func main{output_ptr : felt*}():\n",
    "    tempvar x = 10\n",
    "    tempvar y = x + x\n",
    "    tempvar z = y * y + x\n",
    "    serialize_word(x)\n",
    "    serialize_word(y)\n",
    "    serialize_word(z)\n",
    "    return ()\n",
    "end"
   ]
  },
  {
   "cell_type": "code",
   "execution_count": 5,
   "id": "40236556",
   "metadata": {
    "scrolled": true
   },
   "outputs": [],
   "source": [
    "func main2{output_ptr : felt*}():\n",
    "    tempvar x = 10\n",
    "    tempvar y = x + x\n",
    "    tempvar z = y * y + x\n",
    "    serialize_word(x)\n",
    "    serialize_word(y)\n",
    "    serialize_word(z)\n",
    "    return ()\n",
    "end\n",
    "# This runs properly (see cell below)\n",
    "main()"
   ]
  },
  {
   "cell_type": "code",
   "execution_count": 6,
   "id": "de52b009",
   "metadata": {},
   "outputs": [
    {
     "name": "stdout",
     "output_type": "stream",
     "text": [
      "2:3"
     ]
    }
   ],
   "source": [
    "output_ptr"
   ]
  },
  {
   "cell_type": "code",
   "execution_count": null,
   "id": "9e57d407",
   "metadata": {},
   "outputs": [],
   "source": []
  }
 ],
 "metadata": {
  "kernelspec": {
   "display_name": "Cairo",
   "language": "text",
   "name": "cairo"
  },
  "language_info": {
   "file_extension": ".cairo",
   "mimetype": "text/plain",
   "name": "Cairo"
  }
 },
 "nbformat": 4,
 "nbformat_minor": 5
}
