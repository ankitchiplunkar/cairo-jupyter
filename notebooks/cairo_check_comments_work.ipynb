{
 "cells": [
  {
   "cell_type": "code",
   "execution_count": 1,
   "id": "d70927cf",
   "metadata": {},
   "outputs": [],
   "source": [
    "# These comments should be discarded\n",
    "# 123\n",
    "tempvar x = 10\n",
    "# 123"
   ]
  },
  {
   "cell_type": "code",
   "execution_count": 2,
   "id": "d6196e17",
   "metadata": {},
   "outputs": [
    {
     "name": "stdout",
     "output_type": "stream",
     "text": [
      "10"
     ]
    }
   ],
   "source": [
    "x"
   ]
  },
  {
   "cell_type": "code",
   "execution_count": 3,
   "id": "2effbbdd",
   "metadata": {},
   "outputs": [],
   "source": [
    "from starkware.cairo.common.serialize import serialize_word"
   ]
  },
  {
   "cell_type": "code",
   "execution_count": 4,
   "id": "b6e816e6",
   "metadata": {},
   "outputs": [],
   "source": [
    "func main{output_ptr : felt*}():\n",
    "    #Prints '1234'\n",
    "    serialize_word(1234)\n",
    "    #Prints '4321'\n",
    "    serialize_word(4321)\n",
    "    return ()\n",
    "end"
   ]
  },
  {
   "cell_type": "code",
   "execution_count": 6,
   "id": "a9172102",
   "metadata": {},
   "outputs": [
    {
     "name": "stdout",
     "output_type": "stream",
     "text": [
      "32"
     ]
    }
   ],
   "source": [
    "# Function still doesn't return the right output, but adding comments inside doesn't make it bug anymore \n",
    "main"
   ]
  }
 ],
 "metadata": {
  "kernelspec": {
   "display_name": "Cairo",
   "language": "text",
   "name": "cairo"
  },
  "language_info": {
   "file_extension": ".cairo",
   "mimetype": "text/plain",
   "name": "Cairo"
  }
 },
 "nbformat": 4,
 "nbformat_minor": 5
}
