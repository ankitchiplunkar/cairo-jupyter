{
 "cells": [
  {
   "cell_type": "code",
   "execution_count": 1,
   "id": "f9a59b66",
   "metadata": {},
   "outputs": [],
   "source": [
    "tempvar x = 10"
   ]
  },
  {
   "cell_type": "code",
   "execution_count": 2,
   "id": "35d56058",
   "metadata": {},
   "outputs": [
    {
     "name": "stdout",
     "output_type": "stream",
     "text": [
      "10"
     ]
    }
   ],
   "source": [
    "x"
   ]
  },
  {
   "cell_type": "code",
   "execution_count": 3,
   "id": "4bdd7a0c",
   "metadata": {},
   "outputs": [],
   "source": [
    "tempvar y = x + x"
   ]
  },
  {
   "cell_type": "code",
   "execution_count": 4,
   "id": "681b35e6",
   "metadata": {},
   "outputs": [
    {
     "name": "stdout",
     "output_type": "stream",
     "text": [
      "20"
     ]
    }
   ],
   "source": [
    "y"
   ]
  },
  {
   "cell_type": "code",
   "execution_count": 5,
   "id": "3027c4e9",
   "metadata": {},
   "outputs": [],
   "source": [
    "tempvar z = x*x + y"
   ]
  },
  {
   "cell_type": "code",
   "execution_count": 6,
   "id": "f525a1fb",
   "metadata": {},
   "outputs": [
    {
     "name": "stdout",
     "output_type": "stream",
     "text": [
      "120"
     ]
    }
   ],
   "source": [
    "z"
   ]
  },
  {
   "cell_type": "code",
   "execution_count": null,
   "id": "f4a403af",
   "metadata": {},
   "outputs": [],
   "source": []
  }
 ],
 "metadata": {
  "kernelspec": {
   "display_name": "Cairo",
   "language": "",
   "name": "cairo"
  },
  "language_info": {
   "file_extension": ".cairo",
   "mimetype": "text/plain",
   "name": "Cairo"
  }
 },
 "nbformat": 4,
 "nbformat_minor": 5
}
