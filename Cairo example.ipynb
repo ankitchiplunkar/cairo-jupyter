{
 "cells": [
  {
   "cell_type": "code",
   "execution_count": null,
   "id": "f9a59b66",
   "metadata": {},
   "outputs": [
    {
     "name": "stdout",
     "output_type": "stream",
     "text": [
      "<input>:1:1: Redefinition of builtins directive.\n",
      "%builtins output\n",
      "^**************^"
     ]
    }
   ],
   "source": [
    "%builtins output"
   ]
  },
  {
   "cell_type": "code",
   "execution_count": 3,
   "id": "35d56058",
   "metadata": {},
   "outputs": [],
   "source": [
    "tempvar x = 10"
   ]
  },
  {
   "cell_type": "code",
   "execution_count": 4,
   "id": "4bdd7a0c",
   "metadata": {},
   "outputs": [],
   "source": [
    "tempvar y = x + x"
   ]
  },
  {
   "cell_type": "code",
   "execution_count": 5,
   "id": "681b35e6",
   "metadata": {},
   "outputs": [
    {
     "name": "stdout",
     "output_type": "stream",
     "text": [
      "20"
     ]
    }
   ],
   "source": [
    "y"
   ]
  },
  {
   "cell_type": "code",
   "execution_count": 6,
   "id": "3027c4e9",
   "metadata": {},
   "outputs": [],
   "source": [
    "tempvar z = x*x + y"
   ]
  },
  {
   "cell_type": "code",
   "execution_count": 7,
   "id": "f525a1fb",
   "metadata": {},
   "outputs": [
    {
     "name": "stdout",
     "output_type": "stream",
     "text": [
      "120"
     ]
    }
   ],
   "source": [
    "z"
   ]
  },
  {
   "cell_type": "code",
   "execution_count": null,
   "id": "f4a403af",
   "metadata": {},
   "outputs": [
    {
     "name": "stdout",
     "output_type": "stream",
     "text": [
      "None"
     ]
    }
   ],
   "source": [
    "# test"
   ]
  },
  {
   "cell_type": "code",
   "execution_count": 9,
   "id": "87fdaf70",
   "metadata": {},
   "outputs": [],
   "source": [
    "from starkware.cairo.common.serialize import serialize_word"
   ]
  },
  {
   "cell_type": "code",
   "execution_count": 10,
   "id": "db884d3a",
   "metadata": {},
   "outputs": [],
   "source": [
    "serialize_word(5)"
   ]
  },
  {
   "cell_type": "code",
   "execution_count": 13,
   "id": "d7eeabfa",
   "metadata": {},
   "outputs": [],
   "source": [
    "func add1{output_ptr : felt*}(x : felt) -> (x : felt): \n",
    "    return (x=x+1) \n",
    "    end\n"
   ]
  },
  {
   "cell_type": "code",
   "execution_count": 14,
   "id": "d04c77bb",
   "metadata": {},
   "outputs": [],
   "source": [
    "let (a) = add1(10)"
   ]
  },
  {
   "cell_type": "code",
   "execution_count": 15,
   "id": "297fa6a8",
   "metadata": {},
   "outputs": [
    {
     "name": "stdout",
     "output_type": "stream",
     "text": [
      "11"
     ]
    }
   ],
   "source": [
    "a"
   ]
  },
  {
   "cell_type": "code",
   "execution_count": null,
   "id": "38b7244c",
   "metadata": {},
   "outputs": [],
   "source": []
  }
 ],
 "metadata": {
  "kernelspec": {
   "display_name": "Cairo",
   "language": "text",
   "name": "cairo"
  },
  "language_info": {
   "file_extension": ".cairo",
   "mimetype": "text/plain",
   "name": "Cairo"
  }
 },
 "nbformat": 4,
 "nbformat_minor": 5
}
